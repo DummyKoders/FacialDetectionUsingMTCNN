{
 "cells": [
  {
   "cell_type": "code",
   "execution_count": null,
   "metadata": {},
   "outputs": [],
   "source": [
    "\"\"\"\n",
    "Created on Sat Jul 18\n",
    "\n",
    "@author: DummyKoders\n",
    "\"\"\"\n",
    "# Importing opencv library\n",
    "import cv2\n",
    "# Importing MTCNN library\n",
    "from mtcnn import MTCNN"
   ]
  },
  {
   "cell_type": "code",
   "execution_count": null,
   "metadata": {},
   "outputs": [],
   "source": [
    "''' Creating a VideoCapture object and passing argument as internal\n",
    "    camera (0) '''\n",
    "capture = cv2.VideoCapture(0)"
   ]
  },
  {
   "cell_type": "code",
   "execution_count": null,
   "metadata": {},
   "outputs": [],
   "source": [
    "''' Creating a VideoCapture object and passing argument as IP\n",
    "    address of IP webcam application'''\n",
    "# capture = cv2.VideoCapture(\"http://192.168.1.70:8080/video\")"
   ]
  },
  {
   "cell_type": "code",
   "execution_count": null,
   "metadata": {},
   "outputs": [],
   "source": [
    "while True:\n",
    "        # Continuous capture of the video feed\n",
    "        __, frame = capture.read()\n",
    "        ''' Create an instance of the MTCNN() function/class, using default\n",
    "            weights. '''\n",
    "        detector = MTCNN()\n",
    "        # This internal method detects faces in the video feed\n",
    "        result = detector.detect_faces(frame)\n",
    "        if result != []:\n",
    "            for person in result:\n",
    "                traced_rectangle = person['box']\n",
    "                key_points = person['keypoints']\n",
    "                # Trace the rectangle encasing the faces \n",
    "                cv2.rectangle(frame,(traced_rectangle[0], traced_rectangle[1]),\n",
    "                              (traced_rectangle[0] + traced_rectangle[2],\n",
    "                               traced_rectangle[1] + traced_rectangle[3]),(0,155,255),2)\n",
    "                # Trace the circular points on the faces\n",
    "                cv2.circle(frame,(keypoints['left_eye']), 2, (0,155,255), 2)\n",
    "                cv2.circle(frame,(keypoints['right_eye']), 2, (0,155,255), 2)\n",
    "                cv2.circle(frame,(keypoints['nose']), 2, (0,155,255), 2)\n",
    "                cv2.circle(frame,(keypoints['mouth_left']), 2, (0,155,255), 2)\n",
    "                cv2.circle(frame,(keypoints['mouth_right']), 2, (0,155,255), 2)\n",
    "                \n",
    "            # Show the tracing in the video feed\n",
    "            cv2.imshow('frame',frame)\n",
    "            # Stop the video capture if 'q' is pressed\n",
    "            if cv2.waitKey(1) &0xFF == ord('q'):\n",
    "                break\n",
    "capture.release()\n",
    "cv2.destroyAllWindows()"
   ]
  }
 ],
 "metadata": {
  "kernelspec": {
   "display_name": "Python 3",
   "language": "python",
   "name": "python3"
  },
  "language_info": {
   "codemirror_mode": {
    "name": "ipython",
    "version": 3
   },
   "file_extension": ".py",
   "mimetype": "text/x-python",
   "name": "python",
   "nbconvert_exporter": "python",
   "pygments_lexer": "ipython3",
   "version": "3.7.7"
  }
 },
 "nbformat": 4,
 "nbformat_minor": 4
}
